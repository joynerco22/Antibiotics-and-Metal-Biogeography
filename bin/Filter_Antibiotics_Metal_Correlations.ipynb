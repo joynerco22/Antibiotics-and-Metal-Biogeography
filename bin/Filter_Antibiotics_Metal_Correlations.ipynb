{
 "cells": [
  {
   "cell_type": "code",
   "execution_count": 1,
   "metadata": {},
   "outputs": [
    {
     "name": "stderr",
     "output_type": "stream",
     "text": [
      "C:\\Users\\joyne\\AppData\\Local\\Temp\\ipykernel_32224\\4080736814.py:1: DeprecationWarning: \n",
      "Pyarrow will become a required dependency of pandas in the next major release of pandas (pandas 3.0),\n",
      "(to allow more performant data types, such as the Arrow string type, and better interoperability with other libraries)\n",
      "but was not found to be installed on your system.\n",
      "If this would cause problems for you,\n",
      "please provide us feedback at https://github.com/pandas-dev/pandas/issues/54466\n",
      "        \n",
      "  import pandas as pd\n"
     ]
    }
   ],
   "source": [
    "## The only library needed for this is pandas! So read that in first.\n",
    "import pandas as pd"
   ]
  },
  {
   "cell_type": "code",
   "execution_count": 4,
   "metadata": {},
   "outputs": [
    {
     "name": "stderr",
     "output_type": "stream",
     "text": [
      "C:\\Users\\joyne\\AppData\\Local\\Temp\\ipykernel_32224\\1926763861.py:30: FutureWarning: The behavior of DataFrame concatenation with empty or all-NA entries is deprecated. In a future version, this will no longer exclude empty or all-NA columns when determining the result dtypes. To retain the old behavior, exclude the relevant entries before the concat operation.\n",
      "  filtered_results = filtered_results._append({'gene1': gene1, 'gene2': gene2, 'correlation': row['cor'], 'p.adjusted': row['p_value']},\n"
     ]
    }
   ],
   "source": [
    "\n",
    "### This code takes an input correlation table (NOT A MATRIX! you must flatten it first) plus a category file and sorts it so that only comparisons of interest are included. For large files, this takes around 40 mins using 8 threads on a local machine.\n",
    "\n",
    "# Load the correlation data. This code assumes that you have flattened your corr matrix into table format\n",
    "correlation_df = pd.read_csv('Spearman_corr_table_normseqdepth_BH.csv')\n",
    "\n",
    "# Load the mapping data. The mapping file is used by the ARGs-oap pipeline to generate counts, but another column is added to broadly categorize each gene as being for antibiotic resistance or metal resistance.\n",
    "mapping_df = pd.read_csv('file_for_filtering_large_correlations.csv')\n",
    "\n",
    "# Create an empty DataFrame to store the filtered results\n",
    "filtered_results = pd.DataFrame(columns=['gene1', 'gene2', 'correlation', 'p.adjusted'])\n",
    "\n",
    "# Iterate through each row in the correlation data\n",
    "for index, row in correlation_df.iterrows():\n",
    "    gene1 = row['row']\n",
    "    gene2 = row['column']\n",
    "\n",
    "    # Find the category for gene1. By category, it's going to classify it as either \"metal\" or \"antibiotic\"\n",
    "   \n",
    "    category_gene1 = mapping_df.loc[mapping_df['subtype'] == gene1, 'Class'].values\n",
    "    if len(category_gene1) == 0:\n",
    "        continue  # Skip if gene1 not found in mapping\n",
    "\n",
    "    # Find the category for gene2. By category, it's going to classify it as either \"metal\" or \"antibiotic\"\n",
    "   \n",
    "    category_gene2 = mapping_df.loc[mapping_df['subtype'] == gene2, 'Class'].values\n",
    "    if len(category_gene2) == 0:\n",
    "        continue  # Skip if gene2 not found in mapping\n",
    "\n",
    "    # I am only interested in correlations made exclusively between a metal and antibiotic. So, if the previous step classified gene1 and gene 2 as both metal or antibiotic, discard! If different, append them to a new file.\n",
    "    # We also only consider highly and significantly correlated pairs. So, the correlation coefficient > 0.70 and the adjusted p-value < 0.05.\n",
    "   \n",
    "    if category_gene1[0] != category_gene2[0]:\n",
    "        # Check if correlation and p-value meet criteria\n",
    "        if row['cor'] > 0.70 and row['p_value'] < 0.05:\n",
    "            # Append the row to the filtered results DataFrame\n",
    "            filtered_results = filtered_results._append({'gene1': gene1, 'gene2': gene2, 'correlation': row['cor'], 'p.adjusted': row['p_value']},\n",
    "                                                       ignore_index=True)\n",
    "\n",
    "# Save the result to a new CSV file. Unhash the below line to use this\n",
    "#filtered_results.to_csv('Spearman_corr_normseqdepth_filtered_BH_Final.csv', index=False)\n"
   ]
  }
 ],
 "metadata": {
  "kernelspec": {
   "display_name": "Python 3",
   "language": "python",
   "name": "python3"
  },
  "language_info": {
   "codemirror_mode": {
    "name": "ipython",
    "version": 3
   },
   "file_extension": ".py",
   "mimetype": "text/x-python",
   "name": "python",
   "nbconvert_exporter": "python",
   "pygments_lexer": "ipython3",
   "version": "3.11.9"
  }
 },
 "nbformat": 4,
 "nbformat_minor": 2
}
